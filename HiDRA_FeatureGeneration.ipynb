{
 "cells": [
  {
   "cell_type": "code",
   "execution_count": null,
   "metadata": {},
   "outputs": [],
   "source": [
    "# import numpy and pandas\n",
    "import numpy as np\n",
    "import pandas as pd\n",
    "import csv\n",
    "import matplotlib.pyplot as plt\n",
    "%matplotlib inline\n",
    "import seaborn as sns\n",
    "import math\n",
    "\n",
    "%config Completer.use_jedi=False\n",
    "import os\n"
   ]
  },
  {
   "cell_type": "code",
   "execution_count": null,
   "metadata": {},
   "outputs": [],
   "source": [
    "#Cell line feature Generation"
   ]
  },
  {
   "cell_type": "code",
   "execution_count": null,
   "metadata": {},
   "outputs": [],
   "source": [
    "#Loading cell line expression\n",
    "#Expression file is 'RMA normalised expression data for cell-lines' \n",
    "#from GDSC data portal(https://www.cancerrxgene.org/gdsc1000/GDSC1000_WebResources/Home.html)\n",
    "expression_df=pd.read_csv('RawFile/Cell_line_RMA_proc_basalExp.txt',sep='\\t',index_col=0)\n",
    "expression_df=expression_df[expression_df.columns[1:]]"
   ]
  },
  {
   "cell_type": "code",
   "execution_count": null,
   "metadata": {
    "scrolled": true
   },
   "outputs": [],
   "source": [
    "#Loading cell line information\n",
    "#Cell line information file is 'Annotated list of cell-lines' \n",
    "#from GDSC data portal(https://www.cancerrxgene.org/gdsc1000/GDSC1000_WebResources/Home.html)\n",
    "cellline_information=pd.read_excel('RawFile/TableS1E.xlsx',index_col=0)\n",
    "cellline_information=cellline_information.iloc[3:-1]\n",
    "cellline_information=cellline_information[cellline_information.columns[0:2]]\n",
    "cellline_information.columns=['Cell line name','COSMIC identifier']"
   ]
  },
  {
   "cell_type": "code",
   "execution_count": null,
   "metadata": {},
   "outputs": [],
   "source": [
    "#Excluding cell lines whose expression values are not valid\n",
    "cellline_list=cellline_information['COSMIC identifier']\n",
    "cellline_list=[str(x) for x in cellline_list]\n",
    "cosmic_list=expression_df.columns\n",
    "cosmic_list=[x[5:] for x in cosmic_list]\n",
    "isin_list=[(cosmic in cellline_list) for cosmic in cosmic_list]\n",
    "expression_df=expression_df.loc[:,isin_list]"
   ]
  },
  {
   "cell_type": "code",
   "execution_count": null,
   "metadata": {
    "scrolled": true
   },
   "outputs": [],
   "source": [
    "#Excluding expressions that are not gene\n",
    "expression_list=expression_df.index\n",
    "expression_list=[str(x) for x in expression_list]\n",
    "isin_list=[x!='nan' for x in expression_list]\n",
    "expression_df=expression_df.loc[isin_list]"
   ]
  },
  {
   "cell_type": "code",
   "execution_count": null,
   "metadata": {
    "scrolled": true
   },
   "outputs": [],
   "source": [
    "#Converting COSMIC identifier into Cell line name\n",
    "cellline_name_dic={}\n",
    "for idx,x in cellline_information.iterrows():\n",
    "    cellline_name_dic[str(x['COSMIC identifier'])]=x['Cell line name']\n",
    "cosmic_list=expression_df.columns\n",
    "cosmic_list=[x[5:] for x in cosmic_list]\n",
    "cellline_new_col=[cellline_name_dic[cosmic] for cosmic in cosmic_list]\n",
    "expression_df.columns=cellline_new_col"
   ]
  },
  {
   "cell_type": "code",
   "execution_count": null,
   "metadata": {
    "scrolled": true
   },
   "outputs": [],
   "source": [
    "#Transform expression values into z-score\n",
    "from scipy.stats import zscore\n",
    "expression_df=expression_df.apply(zscore)"
   ]
  },
  {
   "cell_type": "code",
   "execution_count": null,
   "metadata": {},
   "outputs": [],
   "source": [
    "expression_df.index=expression_df.index.rename('Gene_Symbol')"
   ]
  },
  {
   "cell_type": "code",
   "execution_count": null,
   "metadata": {},
   "outputs": [],
   "source": [
    "expression_df.to_csv('ProcessedFile/expression.csv')"
   ]
  },
  {
   "cell_type": "code",
   "execution_count": null,
   "metadata": {},
   "outputs": [],
   "source": []
  },
  {
   "cell_type": "code",
   "execution_count": null,
   "metadata": {},
   "outputs": [],
   "source": []
  },
  {
   "cell_type": "code",
   "execution_count": null,
   "metadata": {},
   "outputs": [],
   "source": [
    "#Make gene expressions grouped into gene sets"
   ]
  },
  {
   "cell_type": "code",
   "execution_count": null,
   "metadata": {
    "scrolled": true
   },
   "outputs": [],
   "source": [
    "#Loading Gene Set\n",
    "#Gene Set File (gmt) is 'KEGG subset of CP' from MSigDB (http://www.gsea-msigdb.org/gsea/msigdb/collections.jsp)\n",
    "GeneSet_List=[]\n",
    "GeneSetFile='RawFile/c2.cp.kegg.v6.2.symbols.gmt'\n",
    "with open(GeneSetFile) as f:\n",
    "    reader = csv.reader(f)\n",
    "    data = list(list(rec) for rec in csv.reader(f, delimiter='\\t')) #reads csv into a list of lists\n",
    "    for row in data:\n",
    "        GeneSet_List.append(row)\n",
    "\n",
    "GeneSet_Dic={}\n",
    "for GeneSet in GeneSet_List:\n",
    "    GeneSet_Dic[GeneSet[0]]=GeneSet[2:]\n",
    "\n",
    "#Delete genes that are not valid\n",
    "#In here, E3 is just a name of one of cell line that is valid\n",
    "GeneSet_Dic_withoutNA={}\n",
    "for GeneSet in GeneSet_Dic:\n",
    "    GeneSet_Dic_withoutNA[GeneSet]=expression_df['ES3'][GeneSet_Dic[GeneSet]].dropna().index.values\n"
   ]
  },
  {
   "cell_type": "code",
   "execution_count": null,
   "metadata": {},
   "outputs": [],
   "source": [
    "expression_df=expression_df.transpose()"
   ]
  },
  {
   "cell_type": "code",
   "execution_count": null,
   "metadata": {},
   "outputs": [],
   "source": [
    "def CelllineFeatureExtract(ExpressionMatrix, GeneSetDic, CellLine):\n",
    "    X_Feature=[]\n",
    "    for GeneSet in GeneSetDic.keys():\n",
    "        Gene_in_GeneSet=[]\n",
    "        for Gene in GeneSetDic[GeneSet]:\n",
    "            Gene_in_GeneSet.append(Gene)\n",
    "        X_Feature.append(ExpressionMatrix[Gene_in_GeneSet].loc[[CellLine]])\n",
    "    \n",
    "    return X_Feature"
   ]
  },
  {
   "cell_type": "code",
   "execution_count": null,
   "metadata": {
    "scrolled": true
   },
   "outputs": [],
   "source": [
    "cellline_input=[]\n",
    "for i in range(len(GeneSet_Dic_withoutNA)):\n",
    "    cellline_input.append(pd.DataFrame())\n",
    "for cellline in expression_df.index:\n",
    "    x=CelllineFeatureExtract(expression_df,GeneSet_Dic_withoutNA,cellline)\n",
    "    for j in range(len(GeneSet_Dic_withoutNA)):\n",
    "        cellline_input[j]=cellline_input[j].append(x[j])"
   ]
  },
  {
   "cell_type": "code",
   "execution_count": null,
   "metadata": {
    "scrolled": true
   },
   "outputs": [],
   "source": [
    "for idx,df in enumerate(cellline_input):\n",
    "    df.to_csv('ProcessedFile/CellLine/'+str(idx)+'.csv')"
   ]
  },
  {
   "cell_type": "code",
   "execution_count": null,
   "metadata": {},
   "outputs": [],
   "source": [
    "expression_df=expression_df.transpose()"
   ]
  },
  {
   "cell_type": "code",
   "execution_count": null,
   "metadata": {},
   "outputs": [],
   "source": []
  },
  {
   "cell_type": "code",
   "execution_count": null,
   "metadata": {},
   "outputs": [],
   "source": []
  },
  {
   "cell_type": "code",
   "execution_count": null,
   "metadata": {},
   "outputs": [],
   "source": [
    "#Loading drug information\n",
    "#It is attached to the source code and SMILESs of each drug were manually collected from DrugBank and PubChem\n",
    "#Morgan fingerprint was calculated by using RDKit\n",
    "#The drug information with Morgan fingerprint can be used as the input feature directly\n",
    "drug_df=pd.read_csv('ProcessedFile/Drug.csv',index_col=0)"
   ]
  },
  {
   "cell_type": "code",
   "execution_count": null,
   "metadata": {},
   "outputs": [],
   "source": [
    "drug_list=drug_df.index"
   ]
  },
  {
   "cell_type": "code",
   "execution_count": null,
   "metadata": {},
   "outputs": [],
   "source": []
  },
  {
   "cell_type": "code",
   "execution_count": null,
   "metadata": {},
   "outputs": [],
   "source": []
  },
  {
   "cell_type": "code",
   "execution_count": null,
   "metadata": {},
   "outputs": [],
   "source": [
    "#GDSC response data preprocessing"
   ]
  },
  {
   "cell_type": "code",
   "execution_count": null,
   "metadata": {},
   "outputs": [],
   "source": [
    "#Loading GDSC response data\n",
    "#GDSC response data is 'GDSC1-dataset'\n",
    "#from GDSC Downloads pages (https://www.cancerrxgene.org/downloads/bulk_download)\n",
    "GDSC_response=pd.read_excel('RawFile/v17.3_fitted_dose_response.xlsx')\n",
    "GDSC_response=GDSC_response[['DRUG_NAME','CELL_LINE_NAME','LN_IC50']]\n",
    "GDSC_response=GDSC_response.reset_index()\n",
    "GDSC_response.columns=['Origin_idx','Drug name','Cell line name','IC50']"
   ]
  },
  {
   "cell_type": "code",
   "execution_count": null,
   "metadata": {},
   "outputs": [],
   "source": [
    "#Excluding cell line-drug pair whose cell line information or drug information is not valid\n",
    "cellline_in_GDSC=GDSC_response['Cell line name']\n",
    "drug_in_GDSC=GDSC_response['Drug name']\n",
    "is_valid_cellline=[(cellline in expression_df.columns) for cellline in cellline_in_GDSC]\n",
    "is_valid_drug=[(drug in drug_list) for drug in drug_in_GDSC]\n",
    "is_valid_all=[(cellline_validity&drug_validaity) for cellline_validity,drug_validaity in zip(is_valid_cellline,is_valid_drug)]\n",
    "GDSC_response=GDSC_response.loc[is_valid_all]\n"
   ]
  },
  {
   "cell_type": "code",
   "execution_count": null,
   "metadata": {},
   "outputs": [],
   "source": [
    "GDSC_response.to_csv('GDSC_response.csv',index=False)"
   ]
  },
  {
   "cell_type": "code",
   "execution_count": null,
   "metadata": {},
   "outputs": [],
   "source": []
  }
 ],
 "metadata": {
  "kernelspec": {
   "display_name": "Python 3",
   "language": "python",
   "name": "python3"
  },
  "language_info": {
   "codemirror_mode": {
    "name": "ipython",
    "version": 3
   },
   "file_extension": ".py",
   "mimetype": "text/x-python",
   "name": "python",
   "nbconvert_exporter": "python",
   "pygments_lexer": "ipython3",
   "version": "3.6.8"
  }
 },
 "nbformat": 4,
 "nbformat_minor": 2
}
